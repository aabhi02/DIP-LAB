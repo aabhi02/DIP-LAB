{
 "cells": [
  {
   "cell_type": "markdown",
   "id": "eca3c9f1",
   "metadata": {},
   "source": [
    "Write a Program to read a digital image. Split and display image into 4 quadrants, up, down, right and\n",
    "left"
   ]
  },
  {
   "cell_type": "code",
   "execution_count": 2,
   "id": "0f91c3f5",
   "metadata": {},
   "outputs": [],
   "source": [
    "import cv2"
   ]
  },
  {
   "cell_type": "code",
   "execution_count": 3,
   "id": "b9a8c3bb",
   "metadata": {},
   "outputs": [],
   "source": [
    "img=cv2.imread('lab1.jpg')"
   ]
  },
  {
   "cell_type": "code",
   "execution_count": 5,
   "id": "6725b7a6",
   "metadata": {},
   "outputs": [
    {
     "data": {
      "text/plain": [
       "(1920, 1080)"
      ]
     },
     "execution_count": 5,
     "metadata": {},
     "output_type": "execute_result"
    }
   ],
   "source": [
    "width, height = img.shape[1], img.shape[0]\n",
    "width, height"
   ]
  },
  {
   "cell_type": "code",
   "execution_count": 6,
   "id": "1ed521ae",
   "metadata": {},
   "outputs": [],
   "source": [
    "mid_w=width//2\n",
    "mid_h=height//2"
   ]
  },
  {
   "cell_type": "code",
   "execution_count": 7,
   "id": "cd7b442a",
   "metadata": {},
   "outputs": [
    {
     "data": {
      "text/plain": [
       "True"
      ]
     },
     "execution_count": 7,
     "metadata": {},
     "output_type": "execute_result"
    }
   ],
   "source": [
    "topL=img[:mid_h, :mid_w]\n",
    "cv2.imwrite(\"topL.jpg\", topL)\n",
    "\n",
    "topR=img[:mid_h, mid_w:]\n",
    "cv2.imwrite(\"topR.jpg\", topR)\n",
    "\n",
    "dnL=img[mid_h:, :mid_w]\n",
    "cv2.imwrite(\"dnL.jpg\", dnL)\n",
    "\n",
    "dnR=img[mid_h:, mid_w:]\n",
    "cv2.imwrite(\"dnR.jpg\", dnR)"
   ]
  },
  {
   "cell_type": "code",
   "execution_count": 8,
   "id": "d648a373",
   "metadata": {},
   "outputs": [],
   "source": [
    "#top left\n",
    "cv2.imshow(\"Img\", topL)\n",
    "cv2.waitKey(0)\n",
    "cv2.destroyAllWindows()"
   ]
  },
  {
   "cell_type": "code",
   "execution_count": 9,
   "id": "22fc3b4e",
   "metadata": {},
   "outputs": [],
   "source": [
    "#top right\n",
    "cv2.imshow(\"Img\", topR)\n",
    "cv2.waitKey(0)\n",
    "cv2.destroyAllWindows()"
   ]
  },
  {
   "cell_type": "code",
   "execution_count": 10,
   "id": "e419482b",
   "metadata": {},
   "outputs": [],
   "source": [
    "#down left\n",
    "cv2.imshow(\"Img\", dnL)\n",
    "cv2.waitKey(0)\n",
    "cv2.destroyAllWindows()"
   ]
  },
  {
   "cell_type": "code",
   "execution_count": 11,
   "id": "404a9a49",
   "metadata": {},
   "outputs": [],
   "source": [
    "#down right\n",
    "cv2.imshow(\"Img\", dnR)\n",
    "cv2.waitKey(0)\n",
    "cv2.destroyAllWindows()"
   ]
  }
 ],
 "metadata": {
  "kernelspec": {
   "display_name": "Python 3 (ipykernel)",
   "language": "python",
   "name": "python3"
  },
  "language_info": {
   "codemirror_mode": {
    "name": "ipython",
    "version": 3
   },
   "file_extension": ".py",
   "mimetype": "text/x-python",
   "name": "python",
   "nbconvert_exporter": "python",
   "pygments_lexer": "ipython3",
   "version": "3.10.9"
  }
 },
 "nbformat": 4,
 "nbformat_minor": 5
}
