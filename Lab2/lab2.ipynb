{
 "cells": [
  {
   "cell_type": "markdown",
   "id": "27c81aa6",
   "metadata": {},
   "source": [
    "Write a program to show rotation, scaling, and translation of an image."
   ]
  },
  {
   "cell_type": "code",
   "execution_count": 1,
   "id": "9960011e",
   "metadata": {},
   "outputs": [],
   "source": [
    "import cv2\n",
    "import numpy as np"
   ]
  },
  {
   "cell_type": "code",
   "execution_count": 2,
   "id": "c704e662",
   "metadata": {},
   "outputs": [],
   "source": [
    "image = cv2.imread(\"img.jpg\")\n",
    "angle = 45\n",
    "scale = 1.5"
   ]
  },
  {
   "cell_type": "code",
   "execution_count": 3,
   "id": "818e6cb5",
   "metadata": {},
   "outputs": [],
   "source": [
    "height, width = image.shape[:2]\n",
    "\n",
    "center = (width//2, height//2)\n",
    "\n",
    "rotation_matrix = cv2.getRotationMatrix2D(center, angle, scale)\n",
    "\n",
    "rotated_image = cv2.warpAffine(image, rotation_matrix, (width,height))"
   ]
  },
  {
   "cell_type": "code",
   "execution_count": 4,
   "id": "b1c1d53c",
   "metadata": {},
   "outputs": [],
   "source": [
    "tx = 50\n",
    "ty = 100\n",
    "\n",
    "#get the translation matrix\n",
    "translation_matrix = np.float32([[1,0,tx],[0,1,ty]])\n",
    "\n",
    "#apply the translation to the image\n",
    "translated_image = cv2.warpAffine(rotated_image, translation_matrix, (width,height))\n",
    "\n",
    "#display the original and modified images\n",
    "cv2.imshow(\"Original\",image)\n",
    "\n",
    "#Rotated image\n",
    "cv2.imshow(\"Rotated Image\", rotated_image)\n",
    "\n",
    "#Translated image\n",
    "cv2.imshow(\"Translated Image\", translated_image)\n",
    "\n",
    "cv2.imshow(\"Roated, Scaled and Translated\", translated_image)\n",
    "cv2.waitKey(0)\n",
    "cv2.destroyAllWindows()"
   ]
  },
  {
   "cell_type": "code",
   "execution_count": 1,
   "id": "a096a313",
   "metadata": {},
   "outputs": [],
   "source": [
    "# cv2.imwrite(\"Rotated Image.jpg\", rotated_image)\n",
    "# cv2.imwrite('Translated Image.jpg', translated_image)"
   ]
  }
 ],
 "metadata": {
  "kernelspec": {
   "display_name": "Python 3 (ipykernel)",
   "language": "python",
   "name": "python3"
  },
  "language_info": {
   "codemirror_mode": {
    "name": "ipython",
    "version": 3
   },
   "file_extension": ".py",
   "mimetype": "text/x-python",
   "name": "python",
   "nbconvert_exporter": "python",
   "pygments_lexer": "ipython3",
   "version": "3.10.9"
  }
 },
 "nbformat": 4,
 "nbformat_minor": 5
}
