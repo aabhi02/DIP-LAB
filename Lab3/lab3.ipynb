{
 "cells": [
  {
   "cell_type": "markdown",
   "metadata": {},
   "source": [
    "Read an image, first apply erosion to the image and then subtract the result from the original.\n",
    "Demonstrate the difference in the edge image if you use dilation instead of erosion."
   ]
  },
  {
   "cell_type": "code",
   "execution_count": 1,
   "metadata": {},
   "outputs": [],
   "source": [
    "import cv2\n",
    "import numpy as np"
   ]
  },
  {
   "cell_type": "code",
   "execution_count": 2,
   "metadata": {},
   "outputs": [],
   "source": [
    "#read the image\n",
    "img=cv2.imread('img.jpg',cv2.IMREAD_GRAYSCALE)"
   ]
  },
  {
   "cell_type": "code",
   "execution_count": 3,
   "metadata": {},
   "outputs": [],
   "source": [
    "#define the erosion and dilution kernels\n",
    "kernel=np.ones((5,5),np.uint8)\n",
    "\n",
    "#Apply erosion to the image\n",
    "erosion=cv2.erode(img,kernel,iterations=1)\n",
    "\n",
    "#subtract the erosion from the oe=riginal image\n",
    "diff_erosion=cv2.absdiff(img,erosion)"
   ]
  },
  {
   "cell_type": "code",
   "execution_count": 4,
   "metadata": {},
   "outputs": [
    {
     "data": {
      "text/plain": [
       "-1"
      ]
     },
     "execution_count": 4,
     "metadata": {},
     "output_type": "execute_result"
    }
   ],
   "source": [
    "#display the difference after erosion\n",
    "cv2.imshow('Difference after erosion', diff_erosion)\n",
    "cv2.waitKey(0)\n",
    "\n",
    "#Apply dilation to the image\n",
    "dilation=cv2.dilate(img,kernel,iterations=1)\n",
    "\n",
    "#subtract the dilation from the original image\n",
    "diff_dilation=cv2.absdiff(img,dilation)\n",
    "\n",
    "#display the difference after dilation\n",
    "cv2.imshow('Difference after dilation', diff_dilation)\n",
    "cv2.waitKey(0)"
   ]
  },
  {
   "cell_type": "code",
   "execution_count": 1,
   "metadata": {},
   "outputs": [],
   "source": [
    "# cv2.imwrite('Difference after erosion.jpg', diff_erosion)\n",
    "# cv2.imwrite('Difference after dilation.jpg', diff_dilation)"
   ]
  }
 ],
 "metadata": {
  "kernelspec": {
   "display_name": "Python 3 (ipykernel)",
   "language": "python",
   "name": "python3"
  },
  "language_info": {
   "codemirror_mode": {
    "name": "ipython",
    "version": 3
   },
   "file_extension": ".py",
   "mimetype": "text/x-python",
   "name": "python",
   "nbconvert_exporter": "python",
   "pygments_lexer": "ipython3",
   "version": "3.10.9"
  }
 },
 "nbformat": 4,
 "nbformat_minor": 2
}
